{
 "cells": [
  {
   "cell_type": "code",
   "execution_count": 1,
   "id": "88a345f5-d7df-4ca2-8c32-5c42c772bc84",
   "metadata": {},
   "outputs": [],
   "source": [
    "from simple_autoencoder import utils, train"
   ]
  },
  {
   "cell_type": "markdown",
   "id": "4d7fcc14-8a34-4cf9-8a2b-554259f931e3",
   "metadata": {},
   "source": [
    "# MNIST examples"
   ]
  },
  {
   "cell_type": "code",
   "execution_count": 14,
   "id": "0ba5cbc4-3e92-4443-950c-7e32521854f6",
   "metadata": {},
   "outputs": [],
   "source": [
    "#Params\n",
    "BATCH_SIZE=128\n",
    "DATA_TYPE=\"mnist\"\n",
    "SAMPLE=7"
   ]
  },
  {
   "cell_type": "code",
   "execution_count": 15,
   "id": "f4b8204b-b75e-48aa-bcbd-29834e975526",
   "metadata": {},
   "outputs": [
    {
     "name": "stdout",
     "output_type": "stream",
     "text": [
      "0 0.09180928766727448\n",
      "1 0.08880939334630966\n",
      "2 0.049009427428245544\n",
      "3 0.042211636900901794\n",
      "4 0.026201417669653893\n",
      "5 0.018419314175844193\n",
      "6 0.01485256664454937\n",
      "7 0.013905871659517288\n",
      "8 0.012490998022258282\n",
      "9 0.010075418278574944\n",
      "10 0.010356700979173183\n",
      "11 0.00946302805095911\n",
      "12 0.0086876405403018\n",
      "13 0.008448663167655468\n",
      "14 0.008547273464500904\n",
      "15 0.008468565531075\n",
      "16 0.007194200064986944\n",
      "17 0.008134298957884312\n",
      "18 0.007893940433859825\n",
      "19 0.007540895603597164\n"
     ]
    }
   ],
   "source": [
    "data_ldr = utils.load_data(DATA_TYPE, BATCH_SIZE, SAMPLE); #load data\n",
    "model, losses = train.train_autoencoder(data_ldr, 20, 100) #train"
   ]
  },
  {
   "cell_type": "markdown",
   "id": "f4cb76c2-8f9c-4cd9-8150-c4fea379ccc7",
   "metadata": {},
   "source": [
    "## Generating a new sample"
   ]
  },
  {
   "cell_type": "code",
   "execution_count": 16,
   "id": "2babecb8-f3ec-4212-86e6-175a2b4c100d",
   "metadata": {
    "scrolled": true
   },
   "outputs": [
    {
     "data": {
      "image/png": "[encoded data removed]",
      "text/plain": [
       "<Figure size 640x480 with 4 Axes>"
      ]
     },
     "metadata": {},
     "output_type": "display_data"
    }
   ],
   "source": [
    "sample1=utils.get_sample(data_ldr)\n",
    "sample2=utils.get_sample(data_ldr)\n",
    "utils.plot_interpolate(model, 0.5, sample1, sample2)"
   ]
  },
  {
   "cell_type": "markdown",
   "id": "4098cb50-0b62-49d6-bd98-ed77537013f6",
   "metadata": {},
   "source": [
    "# Fashion MNIST examples"
   ]
  },
  {
   "cell_type": "code",
   "execution_count": 46,
   "id": "78e551d9-3c10-44a3-a12d-01d633b31226",
   "metadata": {},
   "outputs": [],
   "source": [
    "DATA_TYPE=\"fmnist\"\n",
    "SAMPLE=5"
   ]
  },
  {
   "cell_type": "code",
   "execution_count": 47,
   "id": "5f302124-a39d-4e65-9c02-6714cd590ae6",
   "metadata": {},
   "outputs": [
    {
     "name": "stdout",
     "output_type": "stream",
     "text": [
      "0 0.07339929044246674\n",
      "1 0.08318910747766495\n",
      "2 0.056021761149168015\n",
      "3 0.03770488500595093\n",
      "4 0.03944951668381691\n",
      "5 0.03173999860882759\n",
      "6 0.03193991631269455\n",
      "7 0.03486387059092522\n",
      "8 0.028780916705727577\n",
      "9 0.032784320414066315\n",
      "10 0.03214678168296814\n",
      "11 0.028665972873568535\n",
      "12 0.03257773071527481\n",
      "13 0.03032609634101391\n",
      "14 0.033420074731111526\n",
      "15 0.031510818749666214\n",
      "16 0.02871505729854107\n",
      "17 0.028445012867450714\n",
      "18 0.02939295768737793\n",
      "19 0.028914039954543114\n"
     ]
    }
   ],
   "source": [
    "data_ldr = utils.load_data(DATA_TYPE, BATCH_SIZE, SAMPLE); #load data\n",
    "model_fmnist, losses = train.train_autoencoder(data_ldr, 20, 5) #train"
   ]
  },
  {
   "cell_type": "markdown",
   "id": "58336009-b4f4-4fe3-b185-b2122d0cc265",
   "metadata": {},
   "source": [
    "## Generating a new sample"
   ]
  },
  {
   "cell_type": "code",
   "execution_count": 56,
   "id": "abfd7089-7d12-4721-bbf4-853b2606bd11",
   "metadata": {},
   "outputs": [
    {
     "data": {
      "image/png": "[encoded data removed]",
      "text/plain": [
       "<Figure size 640x480 with 4 Axes>"
      ]
     },
     "metadata": {},
     "output_type": "display_data"
    }
   ],
   "source": [
    "sample1=utils.get_sample(data_ldr)\n",
    "sample2=utils.get_sample(data_ldr)\n",
    "utils.plot_interpolate(model_fmnist, 0.5, sample1, sample2)"
   ]
  },
  {
   "cell_type": "code",
   "execution_count": null,
   "id": "174201bb-92ec-4cec-bdca-cc6acaa7269a",
   "metadata": {},
   "outputs": [],
   "source": []
  }
 ],
 "metadata": {
  "kernelspec": {
   "display_name": "Python 3 (ipykernel)",
   "language": "python",
   "name": "python3"
  },
  "language_info": {
   "codemirror_mode": {
    "name": "ipython",
    "version": 3
   },
   "file_extension": ".py",
   "mimetype": "text/x-python",
   "name": "python",
   "nbconvert_exporter": "python",
   "pygments_lexer": "ipython3",
   "version": "3.10.12"
  }
 },
 "nbformat": 4,
 "nbformat_minor": 5
}
